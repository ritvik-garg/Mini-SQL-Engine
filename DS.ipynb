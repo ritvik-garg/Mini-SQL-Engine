{
 "cells": [
  {
   "cell_type": "code",
   "execution_count": 4,
   "id": "architectural-joshua",
   "metadata": {},
   "outputs": [],
   "source": [
    "import os\n",
    "import sys\n",
    "import re\n",
    "import collections\n",
    "import sqlparse\n",
    "import prettytable\n",
    "import copy"
   ]
  },
  {
   "cell_type": "code",
   "execution_count": 9,
   "id": "monthly-grenada",
   "metadata": {},
   "outputs": [],
   "source": [
    "# main_script_path = os.path.dirname(os.path.realpath(__file__))\n",
    "# data_path=main_script_path\n",
    "data_path=\"\"\n",
    "schema={} ##dictionary of tuples where each tuple belongs to a table which conatins all its column names\n",
    "dataset=collections.defaultdict(list) ##dictionary in which table is key and its value is a list which contains each of its row as dict\n",
    "AGGREGATE_FUNCTIONS=(\"avg\", \"max\", \"min\", \"sum\")\n",
    "CONDITIONAL_TUPLE=(\"AND\", \"OR\", \"(\", \")\")\n",
    "OPERATOR_TUPLE=(\"=\", \">\", \"<\", \"!=\", \"<=\", \">=\")"
   ]
  },
  {
   "cell_type": "code",
   "execution_count": 10,
   "id": "sticky-knowing",
   "metadata": {},
   "outputs": [],
   "source": [
    "def quotes_removal(s): ## to remove \"\" or '' from values in table.\n",
    "    ### return quotes(single or double) free value (integer or variable/column name)\n",
    "    s = s.strip()\n",
    "    while len(s) > 1 and (s[0]=='\\\"' or s[0]=='\\'') and s[0]==s[-1]:\n",
    "        s = s[1:-1] ## copying original str say,\"abcxyz\" or 'abcxyz' to abcxyz\n",
    "    return s"
   ]
  },
  {
   "cell_type": "code",
   "execution_count": 11,
   "id": "opposite-turning",
   "metadata": {},
   "outputs": [],
   "source": [
    "def generate_schema_and_load_data(filename):\n",
    "##Generate the table structure using database schema\n",
    "##here filename is \"metadata.txt\"\n",
    "    with open(os.path.join(data_path,filename), \"r\") as f:\n",
    "        table_found=-1\n",
    "        for row in f.readlines():\n",
    "            row=quotes_removal(row) ## to remove \"\" or '' from each row of metadata.txt\n",
    "            #print len(row) \n",
    "            if row==\"<begin_table>\":\n",
    "                table_found=0\n",
    "            elif row==\"<end_table>\":\n",
    "                table_found=-1\n",
    "            else:\n",
    "                if table_found==0:\n",
    "                    schema[row]=()\n",
    "                    #print schema[row]\n",
    "                    table_found=row #table name\n",
    "                    #print table_found\n",
    "                else: ##Assuming a column name is a capital english alphabet\n",
    "                    schema[table_found]+=(table_found+\".\"+row,) ##only one element in tuple\n",
    "                    #print schema[table_found]\n",
    "    f.close()\n",
    "    #print \"Database Schema Created Using Metadata\"\n",
    "\n",
    "    files=[] #contains table filenames\n",
    "    for filename in os.listdir(data_path):\n",
    "        temp=[]\n",
    "        temp=filename.split(\".\")\n",
    "        if len(temp)==2:\n",
    "            if temp[1]==\"csv\":\n",
    "                if temp[0] in schema.keys():\n",
    "                    table_filename=temp[0]\n",
    "                    for z in range(1,len(temp)):\n",
    "                        table_filename+=\".\"+temp[z]\n",
    "                    files.append(table_filename)\n",
    "\n",
    "    ## Loading data from all the files\n",
    "    #print \"Data is loading from each table files\"\n",
    "    for filename in files:\n",
    "        #print \"Data loaded from \"+str(filename)\n",
    "        with open(os.path.join(data_path,filename),\"r\") as f:\n",
    "            for row in f.readlines():\n",
    "                split_row=row.split(\",\")\n",
    "                tablename=filename.split(\".\")[0]\n",
    "                #print schema[tablename]\n",
    "                #print split_row\n",
    "                #print zip(schema[tablename],split_row)\n",
    "                each_row_info=zip(schema[tablename],split_row)\n",
    "                values=[]\n",
    "                columns=[]\n",
    "                for i in each_row_info:\n",
    "                    j=list(i)\n",
    "                    if len(quotes_removal(j[1]))>0: ###if value is present\n",
    "                        values.append(int(quotes_removal(j[1])))\n",
    "                        columns.append(j[0])\n",
    "                    else: ## if value is missing\n",
    "                        values.append(0) ##putting zero in the empty space\n",
    "                        columns.append(j[0])\n",
    "                temp_dict={}\n",
    "                #print values\n",
    "                #print columns\n",
    "                for x in range(0,len(columns)):\n",
    "                    temp_dict[columns[x]]=values[x]\n",
    "                #print temp_dict\n",
    "                dataset[tablename].append(temp_dict)\n",
    "        f.close()"
   ]
  },
  {
   "cell_type": "code",
   "execution_count": 12,
   "id": "bridal-surrey",
   "metadata": {},
   "outputs": [
    {
     "ename": "FileNotFoundError",
     "evalue": "[Errno 2] No such file or directory: ''",
     "output_type": "error",
     "traceback": [
      "\u001b[0;31m---------------------------------------------------------------------------\u001b[0m",
      "\u001b[0;31mFileNotFoundError\u001b[0m                         Traceback (most recent call last)",
      "\u001b[0;32m<ipython-input-12-45376347c659>\u001b[0m in \u001b[0;36m<module>\u001b[0;34m\u001b[0m\n\u001b[1;32m      1\u001b[0m \u001b[0mmetadata_filename\u001b[0m\u001b[0;34m=\u001b[0m\u001b[0;34m\"metadata.txt\"\u001b[0m\u001b[0;34m\u001b[0m\u001b[0;34m\u001b[0m\u001b[0m\n\u001b[0;32m----> 2\u001b[0;31m \u001b[0mgenerate_schema_and_load_data\u001b[0m\u001b[0;34m(\u001b[0m\u001b[0mmetadata_filename\u001b[0m\u001b[0;34m)\u001b[0m\u001b[0;34m\u001b[0m\u001b[0;34m\u001b[0m\u001b[0m\n\u001b[0m\u001b[1;32m      3\u001b[0m \u001b[0minput_query\u001b[0m\u001b[0;34m=\u001b[0m\u001b[0msys\u001b[0m\u001b[0;34m.\u001b[0m\u001b[0margv\u001b[0m\u001b[0;34m[\u001b[0m\u001b[0;36m1\u001b[0m\u001b[0;34m]\u001b[0m\u001b[0;34m\u001b[0m\u001b[0;34m\u001b[0m\u001b[0m\n\u001b[1;32m      4\u001b[0m \u001b[0mprint\u001b[0m \u001b[0;34m(\u001b[0m\u001b[0minput_query\u001b[0m\u001b[0;34m)\u001b[0m\u001b[0;34m\u001b[0m\u001b[0;34m\u001b[0m\u001b[0m\n\u001b[1;32m      5\u001b[0m \u001b[0mformatted_query\u001b[0m\u001b[0;34m=\u001b[0m\u001b[0msqlparse\u001b[0m\u001b[0;34m.\u001b[0m\u001b[0mformat\u001b[0m\u001b[0;34m(\u001b[0m\u001b[0minput_query\u001b[0m\u001b[0;34m,\u001b[0m\u001b[0mreindent\u001b[0m\u001b[0;34m=\u001b[0m\u001b[0;32mTrue\u001b[0m\u001b[0;34m,\u001b[0m\u001b[0mkeyword_case\u001b[0m\u001b[0;34m=\u001b[0m\u001b[0;34m'upper'\u001b[0m\u001b[0;34m)\u001b[0m\u001b[0;34m\u001b[0m\u001b[0;34m\u001b[0m\u001b[0m\n",
      "\u001b[0;32m<ipython-input-11-d03089e457cd>\u001b[0m in \u001b[0;36mgenerate_schema_and_load_data\u001b[0;34m(filename)\u001b[0m\n\u001b[1;32m     24\u001b[0m \u001b[0;34m\u001b[0m\u001b[0m\n\u001b[1;32m     25\u001b[0m     \u001b[0mfiles\u001b[0m\u001b[0;34m=\u001b[0m\u001b[0;34m[\u001b[0m\u001b[0;34m]\u001b[0m \u001b[0;31m#contains table filenames\u001b[0m\u001b[0;34m\u001b[0m\u001b[0;34m\u001b[0m\u001b[0m\n\u001b[0;32m---> 26\u001b[0;31m     \u001b[0;32mfor\u001b[0m \u001b[0mfilename\u001b[0m \u001b[0;32min\u001b[0m \u001b[0mos\u001b[0m\u001b[0;34m.\u001b[0m\u001b[0mlistdir\u001b[0m\u001b[0;34m(\u001b[0m\u001b[0mdata_path\u001b[0m\u001b[0;34m)\u001b[0m\u001b[0;34m:\u001b[0m\u001b[0;34m\u001b[0m\u001b[0;34m\u001b[0m\u001b[0m\n\u001b[0m\u001b[1;32m     27\u001b[0m         \u001b[0mtemp\u001b[0m\u001b[0;34m=\u001b[0m\u001b[0;34m[\u001b[0m\u001b[0;34m]\u001b[0m\u001b[0;34m\u001b[0m\u001b[0;34m\u001b[0m\u001b[0m\n\u001b[1;32m     28\u001b[0m         \u001b[0mtemp\u001b[0m\u001b[0;34m=\u001b[0m\u001b[0mfilename\u001b[0m\u001b[0;34m.\u001b[0m\u001b[0msplit\u001b[0m\u001b[0;34m(\u001b[0m\u001b[0;34m\".\"\u001b[0m\u001b[0;34m)\u001b[0m\u001b[0;34m\u001b[0m\u001b[0;34m\u001b[0m\u001b[0m\n",
      "\u001b[0;31mFileNotFoundError\u001b[0m: [Errno 2] No such file or directory: ''"
     ]
    }
   ],
   "source": [
    "metadata_filename=\"metadata.txt\"\n",
    "generate_schema_and_load_data(metadata_filename)\n",
    "input_query=sys.argv[1]\n",
    "print (input_query)\n",
    "formatted_query=sqlparse.format(input_query,reindent=True,keyword_case='upper')\n",
    "print (formatted_query)"
   ]
  },
  {
   "cell_type": "code",
   "execution_count": null,
   "id": "electronic-ebony",
   "metadata": {},
   "outputs": [],
   "source": []
  }
 ],
 "metadata": {
  "kernelspec": {
   "display_name": "Python 3",
   "language": "python",
   "name": "python3"
  },
  "language_info": {
   "codemirror_mode": {
    "name": "ipython",
    "version": 3
   },
   "file_extension": ".py",
   "mimetype": "text/x-python",
   "name": "python",
   "nbconvert_exporter": "python",
   "pygments_lexer": "ipython3",
   "version": "3.8.5"
  }
 },
 "nbformat": 4,
 "nbformat_minor": 5
}
